{
 "cells": [
  {
   "cell_type": "markdown",
   "metadata": {},
   "source": [
    "# Initial Flyback Calculations (LTSpice)"
   ]
  },
  {
   "cell_type": "code",
   "execution_count": 7,
   "metadata": {},
   "outputs": [],
   "source": [
    "# Input Variables\n",
    "np = 10 # Transformer primary turns \n",
    "ns = 1350 # Transformer secondary turns\n",
    "lp = 19*10**(-6) # Transformer primary inductance (datasheet) (Henry's)\n",
    "ls = 1 # Transformer secondary (datasheet) (Herny's)\n",
    "lr_p = 0.120 # Transformer primary resistance (Ohm's)\n",
    "lr_s = 8100 # Transformer secondary resistance (Ohm's)"
   ]
  },
  {
   "cell_type": "code",
   "execution_count": 10,
   "metadata": {},
   "outputs": [
    {
     "name": "stdout",
     "output_type": "stream",
     "text": [
      "Secondary Inductance Ls: 0.346 H\n"
     ]
    }
   ],
   "source": [
    "# Calculate the secondary inductance ratio given the turns ratio to properly model the transformer\n",
    "ls_calc = lp/(np/ns)**2\n",
    "print(\"Secondary Inductance Ls: %.3f H\" % ls_calc) "
   ]
  },
  {
   "cell_type": "markdown",
   "metadata": {},
   "source": [
    "Why doesn't Ls_calc match the datasheet?... LTSpice initial simulation stalls out with 0V output after a quick spike with 1H secondary inductance..."
   ]
  },
  {
   "cell_type": "code",
   "execution_count": null,
   "metadata": {},
   "outputs": [],
   "source": []
  }
 ],
 "metadata": {
  "kernelspec": {
   "display_name": "Python 3",
   "language": "python",
   "name": "python3"
  },
  "language_info": {
   "codemirror_mode": {
    "name": "ipython",
    "version": 3
   },
   "file_extension": ".py",
   "mimetype": "text/x-python",
   "name": "python",
   "nbconvert_exporter": "python",
   "pygments_lexer": "ipython3",
   "version": "3.6.5"
  }
 },
 "nbformat": 4,
 "nbformat_minor": 2
}
