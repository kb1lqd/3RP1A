{
 "cells": [
  {
   "cell_type": "markdown",
   "metadata": {},
   "source": [
    "# Initial Flyback Calculations (LTSpice)"
   ]
  },
  {
   "cell_type": "code",
   "execution_count": 1,
   "metadata": {},
   "outputs": [],
   "source": [
    "import math"
   ]
  },
  {
   "cell_type": "code",
   "execution_count": 2,
   "metadata": {},
   "outputs": [],
   "source": [
    "# Input Variables\n",
    "v_in_min = 7 # Input voltage (V)\n",
    "v_in = 12 # Input voltage (V)\n",
    "v_in_max = 25 # Input voltage (V)\n",
    "v_out = 2000 # Output voltage (V)\n",
    "i_out = 0.005 # Output current (A)\n",
    "v_out_ripple = 0.05 # Percentage\n",
    "np = 10 # Transformer primary turns \n",
    "ns = 1350 # Transformer secondary turns\n",
    "lp = 19*10**(-6) # Transformer primary inductance (datasheet) (Henry's)\n",
    "ls = 1 # Transformer secondary (datasheet) (Herny's)\n",
    "lr_p = 0.120 # Transformer primary resistance (Ohm's)\n",
    "lr_s = 8100 # Transformer secondary resistance (Ohm's)\n",
    "i_primary_lim = 0.5 # Primary transformer winding current limit (A)\n",
    "\n",
    "# Calculations\n",
    "nps = np/ns # primary-to-secondary turns ratio"
   ]
  },
  {
   "cell_type": "code",
   "execution_count": 3,
   "metadata": {},
   "outputs": [
    {
     "name": "stdout",
     "output_type": "stream",
     "text": [
      "Secondary Inductance Ls: 0.346 H\n"
     ]
    }
   ],
   "source": [
    "# Calculate the secondary inductance ratio given the turns ratio to properly model the transformer\n",
    "ls_calc = lp/(np/ns)**2\n",
    "print(\"Secondary Inductance Ls: %.3f H\" % ls_calc) "
   ]
  },
  {
   "cell_type": "markdown",
   "metadata": {},
   "source": [
    "Why doesn't Ls_calc match the datasheet?... LTSpice initial simulation stalls out with 0V output after a quick spike with 1H secondary inductance..."
   ]
  },
  {
   "cell_type": "markdown",
   "metadata": {},
   "source": [
    "# LT3748 Calculations"
   ]
  },
  {
   "cell_type": "code",
   "execution_count": 11,
   "metadata": {},
   "outputs": [],
   "source": [
    "# Input Variable\n",
    "v_df = 1.1 # Forward voltage rating (V)\n",
    "v_dr = 1000 # Reverse voltage rating (V)\n",
    "rref = 6040 # LT3748 datasheet given (Ohm's)\n",
    "v_tc = 0.55 # LT3748 datasheet given (V)\n",
    "r_uvlo_r1 = 332000\n",
    "r_uvlo_r2 = 41200\n",
    "\n",
    "\n",
    "# Calculations\n",
    "df_cnt = math.ceil((v_out*2)/v_dr) # 50% margin\n",
    "# Calculate diode leakage safety resistors (http://engineering.electrical-equipment.org/electrical-distribution/series-and-parallel-connected-diodes.html)\n",
    "v_bg_typ = 1.223 # LT3748 internal bandgap voltage referernce typical voltage (V)\n",
    "v_df_total = v_df*df_cnt"
   ]
  },
  {
   "cell_type": "code",
   "execution_count": 12,
   "metadata": {},
   "outputs": [
    {
     "name": "stdout",
     "output_type": "stream",
     "text": [
      "11.875042718446602 11.078242718446603\n"
     ]
    }
   ],
   "source": [
    "# Calculate UVLO characteristics and component values\n",
    "uvlo_rising = (1.223*(r_uvlo_r1+r_uvlo_r2))/r_uvlo_r2+0.0000024*r_uvlo_r1\n",
    "uvlo_falling = (1.223*(r_uvlo_r1+r_uvlo_r2)/r_uvlo_r2)\n",
    "print(uvlo_rising, uvlo_falling)\n"
   ]
  },
  {
   "cell_type": "code",
   "execution_count": 13,
   "metadata": {},
   "outputs": [
    {
     "name": "stdout",
     "output_type": "stream",
     "text": [
      "R_FB = 73346 Ohms\n"
     ]
    }
   ],
   "source": [
    "# LT3748 Feedback resistor\n",
    "r_fb = (rref*(nps)*((v_out+v_df_total)+v_tc))/(v_bg_typ)\n",
    "\n",
    "print(\"R_FB = %d Ohms\" % r_fb)"
   ]
  },
  {
   "cell_type": "code",
   "execution_count": 14,
   "metadata": {},
   "outputs": [
    {
     "name": "stdout",
     "output_type": "stream",
     "text": [
      "R_FB(Revised) = 81496 Ohms\n"
     ]
    }
   ],
   "source": [
    "# Calculate revised R_FB with actual measurement due to tolerances\n",
    "v_out_measured = 1800\n",
    "r_fb_revised = v_out/v_out_measured*r_fb\n",
    "print(\"R_FB(Revised) = %d Ohms\" % r_fb_revised)"
   ]
  },
  {
   "cell_type": "code",
   "execution_count": 15,
   "metadata": {},
   "outputs": [
    {
     "name": "stdout",
     "output_type": "stream",
     "text": [
      "R_TC = 18318.32486 Ohms\n"
     ]
    }
   ],
   "source": [
    "# Calculate R_TC (May skip this since my diodes will NOT be low forward drop, likely...)\n",
    "# Use the iteration test in datashet for value(s)\n",
    "v_out_1 = 1800\n",
    "v_out_2 = 1805\n",
    "temp1 = 25\n",
    "temp2 = 30\n",
    "\n",
    "r_tc = (r_fb/nps)*(0.00185/((v_out_2-v_out_1)/(temp2-temp1)))\n",
    "print(\"R_TC = %.5f Ohms\" % r_tc)"
   ]
  },
  {
   "cell_type": "code",
   "execution_count": 16,
   "metadata": {},
   "outputs": [
    {
     "name": "stdout",
     "output_type": "stream",
     "text": [
      "L_Primary(min_toff) = 1.98 uH\n"
     ]
    }
   ],
   "source": [
    "# Calulate minimum primary inductance due to minimum off time\n",
    "r_sense = 0.005 # Ohms\n",
    "t_settle_min = 400*10**(-9)\n",
    "v_sense_min = 0.015 # Volts\n",
    "\n",
    "l_pri_min_toff = ((v_out+v_df_total)*r_sense*t_settle_min*nps)/(v_sense_min)\n",
    "print(\"L_Primary(min_toff) = %.2f uH\" % (l_pri_min_toff*1*10**(6)))"
   ]
  },
  {
   "cell_type": "code",
   "execution_count": 17,
   "metadata": {},
   "outputs": [
    {
     "name": "stdout",
     "output_type": "stream",
     "text": [
      "L_Primary(min_vin) = 0.58 , 1.00, 2.08 uH\n"
     ]
    }
   ],
   "source": [
    "# Calculation minimum primary inductance due to input voltage (due to gate note timing)\n",
    "t_on_min = 250*10**-9\n",
    "# need to add v_in_max\n",
    "l_pri_min_vin_min = (v_in_min*r_sense*t_on_min)/(v_sense_min)\n",
    "l_pri_min_vin = (v_in*r_sense*t_on_min)/(v_sense_min)\n",
    "l_pri_min_vin_max = (v_in_max*r_sense*t_on_min)/(v_sense_min)\n",
    "print(\"L_Primary(min_vin) = %.2f , %.2f, %.2f uH\" % ((l_pri_min_vin_min*1*10**(6)), (l_pri_min_vin*1*10**(6)), (l_pri_min_vin_max*1*10**(6))))"
   ]
  },
  {
   "cell_type": "code",
   "execution_count": 38,
   "metadata": {},
   "outputs": [],
   "source": [
    "# Calculate the minimum primary inductance due to minimum full-load operating frequency\n",
    "# need to add v_in_min\n",
    "#f_sw_min = 1/(t_on_min + t_off_min)\n",
    "#l_pri_min_fmin = (v_in*(v_out+v_df_total)*nps)/(f_sw_min*i_lim*((v_out+v_df_total)*nps+v_in))"
   ]
  },
  {
   "cell_type": "code",
   "execution_count": 62,
   "metadata": {},
   "outputs": [
    {
     "name": "stdout",
     "output_type": "stream",
     "text": [
      "Minimum Vds rating = 21.81 26.81, 39.81 V\n"
     ]
    }
   ],
   "source": [
    "v_ds_min_min = v_in_min+v_out*nps\n",
    "v_ds_min = v_in+v_out*nps\n",
    "v_ds_min_max = v_in_max+v_out*nps\n",
    "print(\"Minimum Vds rating = %.2f %.2f, %.2f V\" % (v_ds_min_min, v_ds_min, v_ds_min_max))"
   ]
  },
  {
   "cell_type": "code",
   "execution_count": 64,
   "metadata": {},
   "outputs": [
    {
     "name": "stdout",
     "output_type": "stream",
     "text": [
      "Minimum Vdf rating = 2945.00 3620.00, 5375.00 V\n"
     ]
    }
   ],
   "source": [
    "v_df_r_min_min = v_out+(v_in_min/nps)\n",
    "v_df_r_min = v_out+(v_in/nps)\n",
    "v_df_r_min_max = v_out+(v_in_max/nps)\n",
    "print(\"Minimum Vdf rating = %.2f %.2f, %.2f V\" % (v_df_r_min_min, v_df_r_min, v_df_r_min_max))"
   ]
  },
  {
   "cell_type": "code",
   "execution_count": 65,
   "metadata": {},
   "outputs": [
    {
     "name": "stdout",
     "output_type": "stream",
     "text": [
      "Duty Cycle (D) = 0.68, 0.55, 0.37\n"
     ]
    }
   ],
   "source": [
    "# Calculate duty cycle\n",
    "dc_min = ((v_out+v_df_total)*nps)/(v_in_min+(v_out+v_df_total)*nps)\n",
    "dc = ((v_out+v_df_total)*nps)/(v_in+(v_out+v_df_total)*nps)\n",
    "dc_max = ((v_out+v_df_total)*nps)/(v_in_max+(v_out+v_df_total)*nps)\n",
    "print(\"Duty Cycle (D) = %.2f, %.2f, %.2f\" % (dc_min, dc, dc_max))"
   ]
  },
  {
   "cell_type": "code",
   "execution_count": 67,
   "metadata": {},
   "outputs": [
    {
     "name": "stdout",
     "output_type": "stream",
     "text": [
      "i_df_rms = 0.00121, 0.00143, 0.00169\n"
     ]
    }
   ],
   "source": [
    "# Calculate output diode RMS current\n",
    "i_df_rms_min =((((i_primary_lim*nps)**2)*(1-dc_min))/(3))**(1/2)\n",
    "i_df_rms =((((i_primary_lim*nps)**2)*(1-dc))/(3))**(1/2)\n",
    "i_df_rms_max =((((i_primary_lim*nps)**2)*(1-dc_max))/(3))**(1/2)\n",
    "\n",
    "print(\"i_df_rms = %.5f, %.5f, %.5f\" % (i_df_rms_min, i_df_rms, i_df_rms_max))"
   ]
  },
  {
   "cell_type": "code",
   "execution_count": 69,
   "metadata": {},
   "outputs": [
    {
     "name": "stdout",
     "output_type": "stream",
     "text": [
      "P_out_max = 2.4, 2.9, 3.4 W\n"
     ]
    }
   ],
   "source": [
    "p_out_max_min = i_df_rms_min*v_out\n",
    "p_out_max = i_df_rms*v_out\n",
    "p_out_max_max = i_df_rms_max*v_out\n",
    "print(\"P_out_max = %.1f, %.1f, %.1f W\" % (p_out_max_min, p_out_max, p_out_max_max))"
   ]
  },
  {
   "cell_type": "code",
   "execution_count": 70,
   "metadata": {},
   "outputs": [
    {
     "name": "stdout",
     "output_type": "stream",
     "text": [
      "C_output = 11.87 pF\n"
     ]
    }
   ],
   "source": [
    "c_out = (lp*i_primary_lim**2)/(2*(v_out*v_out_ripple*v_out))\n",
    "print(\"C_output = %.2f pF\" % (c_out*1*10**12))"
   ]
  },
  {
   "cell_type": "markdown",
   "metadata": {},
   "source": [
    "# PCB Calculation"
   ]
  },
  {
   "cell_type": "code",
   "execution_count": 71,
   "metadata": {},
   "outputs": [
    {
     "name": "stdout",
     "output_type": "stream",
     "text": [
      "Minimum exposed V_out trace spacing: 423.2 mils\n",
      "Minimum silkmask V_out trace spacing: 283.7 mils\n"
     ]
    }
   ],
   "source": [
    "# Minimum spacings\n",
    "mils_per_mm = 39.3700787\n",
    "vclearance_ipc_b2_min = 0.25 # Minimum >500V base space IPC-2221 B2 (External conductors uncoated)vclearance_ipc_b2_vpermm = # IPC-2221 B2 (External conductors uncoated)\n",
    "vclearance_ipc_b2_vpermm = 0.005 # mm/volt above 500V IPC-2221 B2 (External conductors uncoated)vclearance_ipc_b2_vpermm = # IPC-2221 B2 (External conductors uncoated)\n",
    "vclearance_ipc_b4_min = 0.8 # Minimum >500V base space IPC-2221 B4 (external conductors with polymer coating)\n",
    "vclearance_ipc_b4_vpermm = 0.00305 # mm/volt above 500V IPC-2221 B4 (external conductors with polymer coating)\n",
    "\n",
    "mm_b2_min = vclearance_ipc_b2_min + ((v_out+v_out*v_out_ripple)*vclearance_ipc_b2_vpermm)\n",
    "mm_b4_min = vclearance_ipc_b4_min + ((v_out+v_out*v_out_ripple)*vclearance_ipc_b4_vpermm)\n",
    "\n",
    "print(\"Minimum exposed V_out trace spacing: %.1f mils\" % (mm_b2_min*mils_per_mm))\n",
    "print(\"Minimum silkmask V_out trace spacing: %.1f mils\" % (mm_b4_min*mils_per_mm))"
   ]
  },
  {
   "cell_type": "code",
   "execution_count": null,
   "metadata": {},
   "outputs": [],
   "source": []
  }
 ],
 "metadata": {
  "kernelspec": {
   "display_name": "Python 3",
   "language": "python",
   "name": "python3"
  },
  "language_info": {
   "codemirror_mode": {
    "name": "ipython",
    "version": 3
   },
   "file_extension": ".py",
   "mimetype": "text/x-python",
   "name": "python",
   "nbconvert_exporter": "python",
   "pygments_lexer": "ipython3",
   "version": "3.7.0"
  }
 },
 "nbformat": 4,
 "nbformat_minor": 2
}
