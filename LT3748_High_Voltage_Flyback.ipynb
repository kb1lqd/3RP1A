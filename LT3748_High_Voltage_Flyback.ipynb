{
 "cells": [
  {
   "cell_type": "markdown",
   "metadata": {},
   "source": [
    "# Initial Flyback Calculations (LTSpice)"
   ]
  },
  {
   "cell_type": "code",
   "execution_count": 2,
   "metadata": {},
   "outputs": [],
   "source": [
    "import math"
   ]
  },
  {
   "cell_type": "code",
   "execution_count": 8,
   "metadata": {},
   "outputs": [],
   "source": [
    "# Input Variables\n",
    "v_in = 12 # Input voltage (V)\n",
    "v_out = 2000 # Output voltage (V)\n",
    "i_out = 0.005 # Output current (A)\n",
    "np = 10 # Transformer primary turns \n",
    "ns = 1350 # Transformer secondary turns\n",
    "lp = 19*10**(-6) # Transformer primary inductance (datasheet) (Henry's)\n",
    "ls = 1 # Transformer secondary (datasheet) (Herny's)\n",
    "lr_p = 0.120 # Transformer primary resistance (Ohm's)\n",
    "lr_s = 8100 # Transformer secondary resistance (Ohm's)\n",
    "\n",
    "# Calculations\n",
    "nps = ns/np # primary-to-secondary turns ratio"
   ]
  },
  {
   "cell_type": "code",
   "execution_count": 9,
   "metadata": {},
   "outputs": [
    {
     "name": "stdout",
     "output_type": "stream",
     "text": [
      "Secondary Inductance Ls: 0.346 H\n"
     ]
    }
   ],
   "source": [
    "# Calculate the secondary inductance ratio given the turns ratio to properly model the transformer\n",
    "ls_calc = lp/(np/ns)**2\n",
    "print(\"Secondary Inductance Ls: %.3f H\" % ls_calc) "
   ]
  },
  {
   "cell_type": "markdown",
   "metadata": {},
   "source": [
    "Why doesn't Ls_calc match the datasheet?... LTSpice initial simulation stalls out with 0V output after a quick spike with 1H secondary inductance..."
   ]
  },
  {
   "cell_type": "markdown",
   "metadata": {},
   "source": [
    "# LT3748 Calculations"
   ]
  },
  {
   "cell_type": "code",
   "execution_count": 15,
   "metadata": {},
   "outputs": [],
   "source": [
    "# Input Variable\n",
    "v_df = 1.1 # Forward voltage rating (V)\n",
    "v_dr = 1000 # Reverse voltage rating (V)\n",
    "rref = 6040 # LT3748 datasheet given (Ohm's)\n",
    "v_tc = 0.55 # LT3748 datasheet given (V)\n",
    "\n",
    "\n",
    "# Calculations\n",
    "df_cnt = math.ceil((v_out*2)/v_dr) # 50% margin\n",
    "# Calculate diode leakage safety resistors (http://engineering.electrical-equipment.org/electrical-distribution/series-and-parallel-connected-diodes.html)\n",
    "v_bg_typ = 1.223 # LT3748 internal bandgap voltage referernce typical voltage (V)\n",
    "v_df_total = v_df*df_cnt"
   ]
  },
  {
   "cell_type": "code",
   "execution_count": 19,
   "metadata": {},
   "outputs": [
    {
     "name": "stdout",
     "output_type": "stream",
     "text": [
      "R_FB = 73346 Ohms\n"
     ]
    }
   ],
   "source": [
    "# LT3748 Feedback resistor\n",
    "r_fb = (rref*(1/nps)*((v_out+v_df_total)+v_tc))/(v_bg_typ)\n",
    "\n",
    "print(\"R_FB = %d Ohms\" % r_fb)"
   ]
  },
  {
   "cell_type": "code",
   "execution_count": null,
   "metadata": {},
   "outputs": [],
   "source": []
  }
 ],
 "metadata": {
  "kernelspec": {
   "display_name": "Python 3",
   "language": "python",
   "name": "python3"
  },
  "language_info": {
   "codemirror_mode": {
    "name": "ipython",
    "version": 3
   },
   "file_extension": ".py",
   "mimetype": "text/x-python",
   "name": "python",
   "nbconvert_exporter": "python",
   "pygments_lexer": "ipython3",
   "version": "3.6.5"
  }
 },
 "nbformat": 4,
 "nbformat_minor": 2
}
