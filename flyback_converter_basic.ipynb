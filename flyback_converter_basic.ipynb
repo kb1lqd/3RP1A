{
 "cells": [
  {
   "cell_type": "markdown",
   "metadata": {},
   "source": [
    "# Input Variables"
   ]
  },
  {
   "cell_type": "code",
   "execution_count": 28,
   "metadata": {},
   "outputs": [],
   "source": [
    "# Basic Inputs\n",
    "v_in = 12 # Volts\n",
    "v_out = 2500 # Volts\n",
    "i_out = 0.02 # Amps\n",
    "v_out_ripple = 5 # Percentage\n",
    "f_sw = 50000 # Hertz\n",
    "i_ripple = 40 # Percentage\n",
    "\n",
    "# Basic calculations from inputs\n",
    "r_out = v_out/i_out\n",
    "i_ripple = i_ripple/100\n",
    "v_out_ripple = v_out_ripple/100\n",
    "# Choose an nominal duty cycle\n",
    "dc_nominal = 0.4\n",
    "p_out = v_out*i_out\n",
    "\n",
    "# Real transformer turns ratio\n",
    "turns_ratio_n2n1_real = 135 # 1:x"
   ]
  },
  {
   "cell_type": "code",
   "execution_count": 23,
   "metadata": {},
   "outputs": [
    {
     "name": "stdout",
     "output_type": "stream",
     "text": [
      "Ideal Turns Ratio: 312\n"
     ]
    }
   ],
   "source": [
    "# Calculate transformer turns ratio given duty cycle choosen\n",
    "turns_ratio_n2n1_nominal = (v_out/v_in)*((1-dc_nominal)/dc_nominal)\n",
    "print(\"Ideal Turns Ratio: %d\" % turns_ratio_n2n1_nominal)"
   ]
  },
  {
   "cell_type": "markdown",
   "metadata": {},
   "source": [
    "# Calculate the transformer magnitizing current"
   ]
  },
  {
   "cell_type": "code",
   "execution_count": 24,
   "metadata": {},
   "outputs": [
    {
     "name": "stdout",
     "output_type": "stream",
     "text": [
      "Duty Cycle (Real): 0.61 .\n",
      "I_lm: 6.87 (A)\n"
     ]
    }
   ],
   "source": [
    "# Calculate the duty cycle with the real transformer used\n",
    "dc_real = 1/(turns_ratio_n2n1_real*(v_in/v_out)+1)\n",
    "print(\"Duty Cycle (Real): %.2f .\" % dc_real)\n",
    "\n",
    "i_lm = v_out/((1-dc_real)*r_out)*turns_ratio_n2n1_real\n",
    "print(\"I_lm: %.2f (A)\" % i_lm)\n"
   ]
  },
  {
   "cell_type": "code",
   "execution_count": 25,
   "metadata": {},
   "outputs": [
    {
     "name": "stdout",
     "output_type": "stream",
     "text": [
      "Lm: 53.02 (uH)\n",
      "I_Lm_max: 8.24 (A)\n",
      "I_Lm_min: 5.49 (A)\n",
      "Lm_min(CCM): 10.60 (uH)\n"
     ]
    }
   ],
   "source": [
    "# Calculate the tranformer inductance needed\n",
    "lm = (v_in*dc_real)/((i_ripple*i_lm*f_sw))\n",
    "print(\"Lm: %.2f (uH)\" % (lm*(1*10**6)))\n",
    "\n",
    "# Min/Max transformer current\n",
    "i_lm_max = (v_in*dc_real)/(((1-dc_real)**2)*r_out)*(turns_ratio_n2n1_real**2)+(v_in*dc_real*(1/f_sw))/(2*lm)\n",
    "print(\"I_Lm_max: %.2f (A)\" % i_lm_max)\n",
    "\n",
    "i_lm_min = (v_in*dc_real)/(((1-dc_real)**2)*r_out)*(turns_ratio_n2n1_real**2)-(v_in*dc_real*(1/f_sw))/(2*lm)\n",
    "print(\"I_Lm_min: %.2f (A)\" % i_lm_min)\n",
    "\n",
    "lm_min = ((((1-dc_real)**2)*r_out)/(2*f_sw))*(1/turns_ratio_n2n1_real**2)\n",
    "print(\"Lm_min(CCM): %.2f (uH)\" % (lm_min*(1*10**6)))"
   ]
  },
  {
   "cell_type": "markdown",
   "metadata": {},
   "source": [
    "# Calculate Output Capacitor"
   ]
  },
  {
   "cell_type": "code",
   "execution_count": 26,
   "metadata": {},
   "outputs": [
    {
     "name": "stdout",
     "output_type": "stream",
     "text": [
      "C_out: 3.88 (nF)\n"
     ]
    }
   ],
   "source": [
    "c_out = (dc_real*v_out)/((v_out*v_out_ripple/2)*r_out*f_sw)\n",
    "print(\"C_out: %.2f (nF)\" % (c_out*(1*10**9)))"
   ]
  },
  {
   "cell_type": "markdown",
   "metadata": {},
   "source": [
    "# Summary Calculations"
   ]
  },
  {
   "cell_type": "code",
   "execution_count": 34,
   "metadata": {},
   "outputs": [
    {
     "name": "stdout",
     "output_type": "stream",
     "text": [
      "Input Voltage: 12 V\n",
      "Output Voltage: 2500 V\n",
      "Power Out: 50 W\n",
      "Transformer Turns Ratio: 1:135\n",
      "Lm: 53.02 uH\n",
      "Lm_min(CCM): 10.60 uH\n",
      "Duty Cycle: 0.61 .\n",
      "C_out: 3.88 nF\n"
     ]
    }
   ],
   "source": [
    "# Summary\n",
    "print(\"Input Voltage: %d V\" % v_in)\n",
    "print(\"Output Voltage: %d V\" % v_out)\n",
    "print(\"Power Out: %d W\" % p_out)\n",
    "print(\"Transformer Turns Ratio: 1:%d\" % turns_ratio_n2n1_real)\n",
    "print(\"Lm: %.2f uH\" % (lm*(1*10**6)))\n",
    "print(\"Lm_min(CCM): %.2f uH\" % (lm_min*(1*10**6)))\n",
    "print(\"Duty Cycle: %.2f .\" % dc_real)\n",
    "print(\"C_out: %.2f nF\" % (c_out*(1*10**9)))"
   ]
  },
  {
   "cell_type": "code",
   "execution_count": null,
   "metadata": {},
   "outputs": [],
   "source": []
  }
 ],
 "metadata": {
  "kernelspec": {
   "display_name": "Python 3",
   "language": "python",
   "name": "python3"
  },
  "language_info": {
   "codemirror_mode": {
    "name": "ipython",
    "version": 3
   },
   "file_extension": ".py",
   "mimetype": "text/x-python",
   "name": "python",
   "nbconvert_exporter": "python",
   "pygments_lexer": "ipython3",
   "version": "3.6.5"
  }
 },
 "nbformat": 4,
 "nbformat_minor": 2
}
